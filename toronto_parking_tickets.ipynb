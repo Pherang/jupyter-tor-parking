{
 "cells": [
  {
   "cell_type": "markdown",
   "metadata": {},
   "source": [
    "# What Parking Tickets Mean for Toronto\n",
    "\n",
    "Parking violations and parking tickets are a contentious topic for Torontonians.\n",
    "\n",
    "Toronto parking regulations have a reputation for being confusing and misleading. In this notebook we study parking tickets and to see what impact they have on the city and its citizens.\n",
    "\n",
    "The data was obtained form the city of Toronto's Open Data catalogue and can be downloaded [here](https://www.toronto.ca/city-government/data-research-maps/open-data/open-data-catalogue/#75d14c24-3b7e-f344-4412-d8fd41f89455)"
   ]
  },
  {
   "cell_type": "markdown",
   "metadata": {},
   "source": [
    "## Data Dictionary\n",
    "\n",
    "| Column | Meaning |\n",
    "| :--- | :--- |\n",
    "|TAG_NUMBER_MASKED |\tFirst three (3) characters masked with asterisks |\n",
    "DATE_OF_INFRACTION |\tDate the infraction occurred in YYYYMMDD format\n",
    "INFRACTION_CODE\t| Applicable Infraction code (numeric)\n",
    "INFRACTION_DESCRIPTION |\tShort description of the infraction\n",
    "SET_FINE_AMOUNT |\tAmount of set fine applicable (in dollars)\n",
    "TIME_OF_INFRACTION |\tTime the infraction occurred  in HHMM format (24-hr clock)\n",
    "LOCATION1 |\tCode to denote proximity (see table below)\n",
    "LOCATION2 |\tStreet address\n",
    "LOCATION3 |\tCode to denote proximity (optional)\n",
    "LOCATION4 |\tStreet address (optional)\n",
    "PROVINCE |\tProvince or state code of vehicle licence plate\n"
   ]
  },
  {
   "cell_type": "code",
   "execution_count": 9,
   "metadata": {},
   "outputs": [],
   "source": [
    "import pandas as pd\n",
    "import numpy as np\n",
    "import matplotlib.pyplot as plt\n",
    "import seaborn as sns"
   ]
  },
  {
   "cell_type": "markdown",
   "metadata": {},
   "source": [
    "Align tables in markdown"
   ]
  },
  {
   "cell_type": "code",
   "execution_count": 12,
   "metadata": {},
   "outputs": [
    {
     "data": {
      "text/html": [
       "<style>\n",
       "    table {\n",
       "        margin-left: 0 !important\n",
       "    }\n",
       "    td, th {\n",
       "        text-align: left !important\n",
       "    }\n",
       "</style>"
      ],
      "text/plain": [
       "<IPython.core.display.HTML object>"
      ]
     },
     "metadata": {},
     "output_type": "display_data"
    }
   ],
   "source": [
    "%%html\n",
    "<style>\n",
    "    table {\n",
    "        margin-left: 0 !important\n",
    "    }\n",
    "    td, th {\n",
    "        text-align: left !important\n",
    "    }\n",
    "</style>"
   ]
  },
  {
   "cell_type": "code",
   "execution_count": 14,
   "metadata": {},
   "outputs": [],
   "source": [
    "tickets = pd.read_csv(\"data/parking_tickets_2016/parking_tags_2016.csv\")"
   ]
  },
  {
   "cell_type": "code",
   "execution_count": 17,
   "metadata": {},
   "outputs": [
    {
     "name": "stdout",
     "output_type": "stream",
     "text": [
      "<class 'pandas.core.frame.DataFrame'>\n",
      "RangeIndex: 2254761 entries, 0 to 2254760\n",
      "Data columns (total 12 columns):\n",
      "origin                    int64\n",
      "tag_number_masked         object\n",
      "date_of_infraction        int64\n",
      "infraction_code           float64\n",
      "infraction_description    object\n",
      "set_fine_amount           int64\n",
      "time_of_infraction        float64\n",
      "location1                 object\n",
      "location2                 object\n",
      "location3                 object\n",
      "location4                 object\n",
      "province                  object\n",
      "dtypes: float64(2), int64(3), object(7)\n",
      "memory usage: 959.6 MB\n"
     ]
    }
   ],
   "source": [
    "tickets.info(memory_usage='deep')"
   ]
  },
  {
   "cell_type": "code",
   "execution_count": 16,
   "metadata": {},
   "outputs": [
    {
     "data": {
      "text/html": [
       "<div>\n",
       "<style scoped>\n",
       "    .dataframe tbody tr th:only-of-type {\n",
       "        vertical-align: middle;\n",
       "    }\n",
       "\n",
       "    .dataframe tbody tr th {\n",
       "        vertical-align: top;\n",
       "    }\n",
       "\n",
       "    .dataframe thead th {\n",
       "        text-align: right;\n",
       "    }\n",
       "</style>\n",
       "<table border=\"1\" class=\"dataframe\">\n",
       "  <thead>\n",
       "    <tr style=\"text-align: right;\">\n",
       "      <th></th>\n",
       "      <th>origin</th>\n",
       "      <th>tag_number_masked</th>\n",
       "      <th>date_of_infraction</th>\n",
       "      <th>infraction_code</th>\n",
       "      <th>infraction_description</th>\n",
       "      <th>set_fine_amount</th>\n",
       "      <th>time_of_infraction</th>\n",
       "      <th>location1</th>\n",
       "      <th>location2</th>\n",
       "      <th>location3</th>\n",
       "      <th>location4</th>\n",
       "      <th>province</th>\n",
       "    </tr>\n",
       "  </thead>\n",
       "  <tbody>\n",
       "    <tr>\n",
       "      <th>0</th>\n",
       "      <td>1</td>\n",
       "      <td>***03850</td>\n",
       "      <td>20160101</td>\n",
       "      <td>29.0</td>\n",
       "      <td>PARK PROHIBITED TIME NO PERMIT</td>\n",
       "      <td>30</td>\n",
       "      <td>0.0</td>\n",
       "      <td>NR</td>\n",
       "      <td>49 GLOUCESTER ST</td>\n",
       "      <td>NaN</td>\n",
       "      <td>NaN</td>\n",
       "      <td>ON</td>\n",
       "    </tr>\n",
       "    <tr>\n",
       "      <th>1</th>\n",
       "      <td>1</td>\n",
       "      <td>***03851</td>\n",
       "      <td>20160101</td>\n",
       "      <td>29.0</td>\n",
       "      <td>PARK PROHIBITED TIME NO PERMIT</td>\n",
       "      <td>30</td>\n",
       "      <td>1.0</td>\n",
       "      <td>NR</td>\n",
       "      <td>45 GLOUCESTER ST</td>\n",
       "      <td>NaN</td>\n",
       "      <td>NaN</td>\n",
       "      <td>ON</td>\n",
       "    </tr>\n",
       "    <tr>\n",
       "      <th>2</th>\n",
       "      <td>1</td>\n",
       "      <td>***98221</td>\n",
       "      <td>20160101</td>\n",
       "      <td>29.0</td>\n",
       "      <td>PARK PROHIBITED TIME NO PERMIT</td>\n",
       "      <td>30</td>\n",
       "      <td>2.0</td>\n",
       "      <td>NR</td>\n",
       "      <td>274 GEORGE ST</td>\n",
       "      <td>NaN</td>\n",
       "      <td>NaN</td>\n",
       "      <td>ON</td>\n",
       "    </tr>\n",
       "    <tr>\n",
       "      <th>3</th>\n",
       "      <td>1</td>\n",
       "      <td>***85499</td>\n",
       "      <td>20160101</td>\n",
       "      <td>29.0</td>\n",
       "      <td>PARK PROHIBITED TIME NO PERMIT</td>\n",
       "      <td>30</td>\n",
       "      <td>2.0</td>\n",
       "      <td>NR</td>\n",
       "      <td>270 GEORGE ST</td>\n",
       "      <td>NaN</td>\n",
       "      <td>NaN</td>\n",
       "      <td>ON</td>\n",
       "    </tr>\n",
       "    <tr>\n",
       "      <th>4</th>\n",
       "      <td>1</td>\n",
       "      <td>***03852</td>\n",
       "      <td>20160101</td>\n",
       "      <td>406.0</td>\n",
       "      <td>PARK-VEH. W/O VALID ONT PLATE</td>\n",
       "      <td>40</td>\n",
       "      <td>2.0</td>\n",
       "      <td>NR</td>\n",
       "      <td>45 GLOUCESTER ST</td>\n",
       "      <td>NaN</td>\n",
       "      <td>NaN</td>\n",
       "      <td>ON</td>\n",
       "    </tr>\n",
       "  </tbody>\n",
       "</table>\n",
       "</div>"
      ],
      "text/plain": [
       "   origin tag_number_masked  date_of_infraction  infraction_code  \\\n",
       "0       1          ***03850            20160101             29.0   \n",
       "1       1          ***03851            20160101             29.0   \n",
       "2       1          ***98221            20160101             29.0   \n",
       "3       1          ***85499            20160101             29.0   \n",
       "4       1          ***03852            20160101            406.0   \n",
       "\n",
       "           infraction_description  set_fine_amount  time_of_infraction  \\\n",
       "0  PARK PROHIBITED TIME NO PERMIT               30                 0.0   \n",
       "1  PARK PROHIBITED TIME NO PERMIT               30                 1.0   \n",
       "2  PARK PROHIBITED TIME NO PERMIT               30                 2.0   \n",
       "3  PARK PROHIBITED TIME NO PERMIT               30                 2.0   \n",
       "4   PARK-VEH. W/O VALID ONT PLATE               40                 2.0   \n",
       "\n",
       "  location1         location2 location3 location4 province  \n",
       "0        NR  49 GLOUCESTER ST       NaN       NaN       ON  \n",
       "1        NR  45 GLOUCESTER ST       NaN       NaN       ON  \n",
       "2        NR     274 GEORGE ST       NaN       NaN       ON  \n",
       "3        NR     270 GEORGE ST       NaN       NaN       ON  \n",
       "4        NR  45 GLOUCESTER ST       NaN       NaN       ON  "
      ]
     },
     "execution_count": 16,
     "metadata": {},
     "output_type": "execute_result"
    }
   ],
   "source": [
    "tickets.head()"
   ]
  },
  {
   "cell_type": "code",
   "execution_count": null,
   "metadata": {},
   "outputs": [],
   "source": []
  }
 ],
 "metadata": {
  "kernelspec": {
   "display_name": "Python 3",
   "language": "python",
   "name": "python3"
  },
  "language_info": {
   "codemirror_mode": {
    "name": "ipython",
    "version": 3
   },
   "file_extension": ".py",
   "mimetype": "text/x-python",
   "name": "python",
   "nbconvert_exporter": "python",
   "pygments_lexer": "ipython3",
   "version": "3.6.6"
  }
 },
 "nbformat": 4,
 "nbformat_minor": 2
}
